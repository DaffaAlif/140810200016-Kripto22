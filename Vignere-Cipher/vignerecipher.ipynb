{
  "nbformat": 4,
  "nbformat_minor": 0,
  "metadata": {
    "colab": {
      "provenance": []
    },
    "kernelspec": {
      "name": "python3",
      "display_name": "Python 3"
    },
    "language_info": {
      "name": "python"
    }
  },
  "cells": [
    {
      "cell_type": "code",
      "execution_count": 1,
      "metadata": {
        "id": "2gbGtjuhh4ZK"
      },
      "outputs": [],
      "source": [
        "def generateKey(string, key): \n",
        "  key = list(key) \n",
        "  if len(string) == len(key): \n",
        "    return(key) \n",
        "  else: \n",
        "    for i in range(len(string) -len(key)): \n",
        "      key.append(key[i % len(key)]) \n",
        "  return(\"\" . join(key)) "
      ]
    },
    {
      "cell_type": "code",
      "source": [
        "def encryption(string, key): \n",
        "  encrypt_text = [] \n",
        "  for i in range(len(string)): \n",
        "    x = (ord(string[i]) +ord(key[i])) % 26\n",
        "    x += ord('A') \n",
        "    encrypt_text.append(chr(x)) \n",
        "  return(\"\" . join(encrypt_text)) "
      ],
      "metadata": {
        "id": "VqCvN45vh6MQ"
      },
      "execution_count": 2,
      "outputs": []
    },
    {
      "cell_type": "code",
      "source": [
        "def decryption(encrypt_text, key): \n",
        "  orig_text = [] \n",
        "  for i in range(len(encrypt_text)): \n",
        "    x = (ord(encrypt_text[i]) -ord(key[i]) + 26) % 26\n",
        "    x += ord('A') \n",
        "    orig_text.append(chr(x)) \n",
        "  return(\"\" . join(orig_text)) "
      ],
      "metadata": {
        "id": "ERW3yQo9h74V"
      },
      "execution_count": 3,
      "outputs": []
    },
    {
      "cell_type": "code",
      "source": [
        "if __name__ == \"__main__\": \n",
        "  string = input(\"masukan plaintext\")\n",
        "  keyword = input(\"masukan key \")\n",
        "  key = generateKey(string, keyword) \n",
        "  encrypt_text = encryption(string,key) \n",
        "  print(\"Encrypted message:\", encrypt_text) \n",
        "  print(\"Decrypted message:\", decryption(encrypt_text, key)) "
      ],
      "metadata": {
        "colab": {
          "base_uri": "https://localhost:8080/"
        },
        "id": "wHlP35fLh9gp",
        "outputId": "97a610f2-062a-4399-ad8e-8131f2d37cd3"
      },
      "execution_count": 4,
      "outputs": [
        {
          "output_type": "stream",
          "name": "stdout",
          "text": [
            "Enter the message: sayainisaya\n",
            "Enter the keyword: daffa\n",
            "Encrypted message: HMPRUCUJRKP\n",
            "Decrypted message: YGEGOTOYGEG\n"
          ]
        }
      ]
    }
  ]
}